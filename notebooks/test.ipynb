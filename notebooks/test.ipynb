{
 "cells": [
  {
   "cell_type": "code",
   "execution_count": 1,
   "metadata": {},
   "outputs": [],
   "source": [
    "import numpy as np\n",
    "from src.Environnement import Environment"
   ]
  },
  {
   "cell_type": "markdown",
   "metadata": {},
   "source": [
    "## Value Iteration\n",
    "\n",
    "On commence par importer le fichier txt contenant la grille. On extrait les paramètres $\\alpha$, $\\gamma$. On affiche la grille pour vérifier qu'elle est bien importée. On affiche le modéle de transition et on effectue la value iteration pour trouver la politique optimale. On affiche la politique optimale."
   ]
  },
  {
   "cell_type": "code",
   "execution_count": 2,
   "metadata": {},
   "outputs": [],
   "source": [
    "# read value-iteration.txt\n",
    "with open('../value-iteration.txt', 'r') as f:\n",
    "    lines = f.readlines()\n",
    "\n",
    "# parse the file\n",
    "nb_line = len(lines) - 2\n",
    "nb_col = len(lines[1].split(','))\n",
    "grid = np.zeros((nb_line, nb_col))\n",
    "\n",
    "#get the threshold and gamma\n",
    "threshold = float(lines[-1])\n",
    "gamma = float(lines[-2])\n",
    "\n",
    "#get rid of the last two lines\n",
    "lines = lines[:-2]\n",
    "lines= lines[::-1]\n",
    "\n",
    "#populate the grid\n",
    "for i in range(nb_line):\n",
    "    grid[i] = np.array(lines[i].split(','))"
   ]
  },
  {
   "cell_type": "markdown",
   "metadata": {},
   "source": [
    "### On affiche la grille avec les récompenses"
   ]
  },
  {
   "cell_type": "code",
   "execution_count": 3,
   "metadata": {},
   "outputs": [
    {
     "data": {
      "image/png": "[encoded data removed]",
      "text/plain": [
       "<Figure size 640x480 with 1 Axes>"
      ]
     },
     "metadata": {},
     "output_type": "display_data"
    }
   ],
   "source": [
    "env = Environment(grid, gamma, threshold)\n",
    "env.plot_grid()"
   ]
  },
  {
   "cell_type": "markdown",
   "metadata": {},
   "source": [
    "### On affiche le modèle de transition"
   ]
  },
  {
   "cell_type": "code",
   "execution_count": 4,
   "metadata": {},
   "outputs": [
    {
     "name": "stdout",
     "output_type": "stream",
     "text": [
      "==== (0, 0) ====\n",
      "up : \n",
      "((1, 0), 0.8)\n",
      "((0, 1), 0.1)\n",
      "((0, 0), 0.1)\n",
      "down : \n",
      "((0, 1), 0.1)\n",
      "((0, 0), 0.9)\n",
      "left : \n",
      "((1, 0), 0.1)\n",
      "((0, 0), 0.9)\n",
      "right : \n",
      "((0, 1), 0.8)\n",
      "((1, 0), 0.1)\n",
      "((0, 0), 0.1)\n",
      "==== (0, 1) ====\n",
      "up : \n",
      "((0, 0), 0.1)\n",
      "((0, 2), 0.1)\n",
      "((0, 1), 0.8)\n",
      "down : \n",
      "((0, 0), 0.1)\n",
      "((0, 2), 0.1)\n",
      "((0, 1), 0.8)\n",
      "left : \n",
      "((0, 0), 0.8)\n",
      "((0, 1), 0.2)\n",
      "right : \n",
      "((0, 2), 0.8)\n",
      "((0, 1), 0.2)\n",
      "==== (0, 2) ====\n",
      "up : \n",
      "((1, 2), 0.8)\n",
      "((0, 1), 0.1)\n",
      "((0, 3), 0.1)\n",
      "down : \n",
      "((0, 1), 0.1)\n",
      "((0, 3), 0.1)\n",
      "((0, 2), 0.8)\n",
      "left : \n",
      "((0, 1), 0.8)\n",
      "((1, 2), 0.1)\n",
      "((0, 2), 0.1)\n",
      "right : \n",
      "((0, 3), 0.8)\n",
      "((1, 2), 0.1)\n",
      "((0, 2), 0.1)\n",
      "==== (0, 3) ====\n",
      "up : \n",
      "((1, 3), 0.8)\n",
      "((0, 2), 0.1)\n",
      "((0, 3), 0.1)\n",
      "down : \n",
      "((0, 2), 0.1)\n",
      "((0, 3), 0.9)\n",
      "left : \n",
      "((0, 2), 0.8)\n",
      "((1, 3), 0.1)\n",
      "((0, 3), 0.1)\n",
      "right : \n",
      "((1, 3), 0.1)\n",
      "((0, 3), 0.9)\n",
      "==== (1, 0) ====\n",
      "up : \n",
      "((2, 0), 0.8)\n",
      "((1, 0), 0.2)\n",
      "down : \n",
      "((0, 0), 0.8)\n",
      "((1, 0), 0.2)\n",
      "left : \n",
      "((2, 0), 0.1)\n",
      "((0, 0), 0.1)\n",
      "((1, 0), 0.8)\n",
      "right : \n",
      "((2, 0), 0.1)\n",
      "((0, 0), 0.1)\n",
      "((1, 0), 0.8)\n",
      "==== (1, 1) ====\n",
      "WALL\n",
      "==== (1, 2) ====\n",
      "up : \n",
      "((2, 2), 0.8)\n",
      "((1, 3), 0.1)\n",
      "((1, 2), 0.1)\n",
      "down : \n",
      "((0, 2), 0.8)\n",
      "((1, 3), 0.1)\n",
      "((1, 2), 0.1)\n",
      "left : \n",
      "((2, 2), 0.1)\n",
      "((0, 2), 0.1)\n",
      "((1, 2), 0.8)\n",
      "right : \n",
      "((1, 3), 0.8)\n",
      "((2, 2), 0.1)\n",
      "((0, 2), 0.1)\n",
      "==== (1, 3) ====\n",
      "TERMINAL\n",
      "==== (2, 0) ====\n",
      "up : \n",
      "((2, 1), 0.1)\n",
      "((2, 0), 0.9)\n",
      "down : \n",
      "((1, 0), 0.8)\n",
      "((2, 1), 0.1)\n",
      "((2, 0), 0.1)\n",
      "left : \n",
      "((1, 0), 0.1)\n",
      "((2, 0), 0.9)\n",
      "right : \n",
      "((2, 1), 0.8)\n",
      "((1, 0), 0.1)\n",
      "((2, 0), 0.1)\n",
      "==== (2, 1) ====\n",
      "up : \n",
      "((2, 0), 0.1)\n",
      "((2, 2), 0.1)\n",
      "((2, 1), 0.8)\n",
      "down : \n",
      "((2, 0), 0.1)\n",
      "((2, 2), 0.1)\n",
      "((2, 1), 0.8)\n",
      "left : \n",
      "((2, 0), 0.8)\n",
      "((2, 1), 0.2)\n",
      "right : \n",
      "((2, 2), 0.8)\n",
      "((2, 1), 0.2)\n",
      "==== (2, 2) ====\n",
      "up : \n",
      "((2, 1), 0.1)\n",
      "((2, 3), 0.1)\n",
      "((2, 2), 0.8)\n",
      "down : \n",
      "((1, 2), 0.8)\n",
      "((2, 1), 0.1)\n",
      "((2, 3), 0.1)\n",
      "left : \n",
      "((2, 1), 0.8)\n",
      "((1, 2), 0.1)\n",
      "((2, 2), 0.1)\n",
      "right : \n",
      "((2, 3), 0.8)\n",
      "((1, 2), 0.1)\n",
      "((2, 2), 0.1)\n",
      "==== (2, 3) ====\n",
      "TERMINAL\n"
     ]
    }
   ],
   "source": [
    "env.get_transitionnal_model()"
   ]
  },
  {
   "cell_type": "markdown",
   "metadata": {},
   "source": [
    "### On effectue la value iteration et on affiche la politique optimale"
   ]
  },
  {
   "cell_type": "code",
   "execution_count": 5,
   "metadata": {},
   "outputs": [
    {
     "name": "stdout",
     "output_type": "stream",
     "text": [
      "(0, 0) up\n",
      "(0, 1) left\n",
      "(0, 2) up\n",
      "(0, 3) left\n",
      "(1, 0) up\n",
      "(1, 2) up\n",
      "(2, 0) right\n",
      "(2, 1) right\n",
      "(2, 2) right\n"
     ]
    }
   ],
   "source": [
    "env.value_iteration()\n",
    "env.get_policy()"
   ]
  },
  {
   "cell_type": "markdown",
   "metadata": {},
   "source": [
    "## Q-learning\n",
    "\n",
    "On import le txt contenant la grille. On extrait les paramètres $\\alpha$, $\\gamma$, et le nombre d'episodes. On effectue le Q-learning pour trouver la politique optimale. On affiche la politique optimale."
   ]
  },
  {
   "cell_type": "code",
   "execution_count": 6,
   "metadata": {},
   "outputs": [],
   "source": [
    "# read value-iteration.txt\n",
    "with open('../Q-Learning.txt', 'r') as f:\n",
    "    lines = f.readlines()\n",
    "\n",
    "# parse the file\n",
    "nb_line = len(lines) - 3\n",
    "nb_col = len(lines[1].split(','))\n",
    "grid = np.zeros((nb_line, nb_col))\n",
    "\n",
    "#get the threshold and gamma\n",
    "number_episodes = int(lines[-1])\n",
    "alpha = float(lines[-2])\n",
    "gamma = float(lines[-3])\n",
    "\n",
    "#get rid of the last two lines\n",
    "lines = lines[:-3]\n",
    "lines= lines[::-1]\n",
    "\n",
    "#populate the grid\n",
    "for i in range(nb_line):\n",
    "    grid[i] = np.array(lines[i].split(','))"
   ]
  },
  {
   "cell_type": "markdown",
   "metadata": {},
   "source": [
    "### Create the environment "
   ]
  },
  {
   "cell_type": "code",
   "execution_count": 7,
   "metadata": {},
   "outputs": [],
   "source": [
    "env = Environment(grid=grid, gamma=gamma, alpha=alpha, episode=number_episodes)"
   ]
  },
  {
   "cell_type": "markdown",
   "metadata": {},
   "source": [
    "### Do the Q-learning and print the optimal policy"
   ]
  },
  {
   "cell_type": "code",
   "execution_count": 8,
   "metadata": {},
   "outputs": [],
   "source": [
    "env.q_learning()"
   ]
  },
  {
   "cell_type": "code",
   "execution_count": 9,
   "metadata": {},
   "outputs": [
    {
     "name": "stdout",
     "output_type": "stream",
     "text": [
      "(0, 0) left\n",
      "(0, 1) right\n",
      "(0, 2) down\n",
      "(0, 3) down\n",
      "(1, 0) up\n",
      "(1, 2) up\n",
      "(2, 0) down\n",
      "(2, 1) right\n",
      "(2, 2) right\n"
     ]
    }
   ],
   "source": [
    "env.get_policy()"
   ]
  }
 ],
 "metadata": {
  "kernelspec": {
   "display_name": "venv",
   "language": "python",
   "name": "python3"
  },
  "language_info": {
   "codemirror_mode": {
    "name": "ipython",
    "version": 3
   },
   "file_extension": ".py",
   "mimetype": "text/x-python",
   "name": "python",
   "nbconvert_exporter": "python",
   "pygments_lexer": "ipython3",
   "version": "3.10.12"
  }
 },
 "nbformat": 4,
 "nbformat_minor": 2
}
